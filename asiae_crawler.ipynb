{
 "cells": [
  {
   "cell_type": "code",
   "execution_count": 36,
   "metadata": {},
   "outputs": [],
   "source": [
    "# -*- coding: utf-8 -*-\n",
    "\n",
    "from urllib.request import Request\n",
    "from urllib.request import urlopen\n",
    "from urllib.error import HTTPError\n",
    "from urllib.error import URLError\n",
    "\n",
    "from bs4 import BeautifulSoup as bs\n",
    "\n",
    "import sys"
   ]
  },
  {
   "cell_type": "code",
   "execution_count": 37,
   "metadata": {},
   "outputs": [],
   "source": [
    "asiae_url = \"https://www.asiae.co.kr/list/item-disclosure/\"\n",
    "\n",
    "req = urlopen(asiae_url)\n",
    "asiae_bs = bs(req, 'html.parser')"
   ]
  },
  {
   "cell_type": "code",
   "execution_count": 38,
   "metadata": {},
   "outputs": [
    {
     "data": {
      "text/plain": [
       "['//www.asiae.co.kr/article/item-disclosure/2020021115384049726']"
      ]
     },
     "execution_count": 38,
     "metadata": {},
     "output_type": "execute_result"
    }
   ],
   "source": [
    "first_post_path = \"#container > div.content > div.cont_listarea > div.cont_list > div.list_type > h3 > a\"\n",
    "first_post = asiae_bs.select(first_post_path)\n",
    "first_post = [i.attrs['href'] for i in first_post]\n",
    "first_post"
   ]
  },
  {
   "cell_type": "code",
   "execution_count": 39,
   "metadata": {},
   "outputs": [
    {
     "data": {
      "text/plain": [
       "['//www.asiae.co.kr/article/item-disclosure/2020021115345896646',\n",
       " '//www.asiae.co.kr/article/item-disclosure/2020021115321034110',\n",
       " '//www.asiae.co.kr/article/item-disclosure/2020021115303661593',\n",
       " '//www.asiae.co.kr/article/item-disclosure/2020021115222986429',\n",
       " '//www.asiae.co.kr/article/item-disclosure/2020021115103233342',\n",
       " '//www.asiae.co.kr/article/item-disclosure/2020021115084215386',\n",
       " '//www.asiae.co.kr/article/item-disclosure/2020021115071802393',\n",
       " '//www.asiae.co.kr/article/item-disclosure/2020021115042987706',\n",
       " '//www.asiae.co.kr/article/item-disclosure/2020021115025272025',\n",
       " '//www.asiae.co.kr/article/item-disclosure/2020021115002378244',\n",
       " '//www.asiae.co.kr/article/item-disclosure/2020021114261571234',\n",
       " '//www.asiae.co.kr/article/item-disclosure/2020021113555780176',\n",
       " '//www.asiae.co.kr/article/item-disclosure/2020021113541874132',\n",
       " '//www.asiae.co.kr/article/item-disclosure/2020021113523963255',\n",
       " '//www.asiae.co.kr/article/item-disclosure/2020021113504146316',\n",
       " '//www.asiae.co.kr/article/item-disclosure/2020021113491934189',\n",
       " '//www.asiae.co.kr/article/item-disclosure/2020021113182945319',\n",
       " '//www.asiae.co.kr/article/item-disclosure/2020021110482233070',\n",
       " '//www.asiae.co.kr/article/item-disclosure/2020021110403409874']"
      ]
     },
     "execution_count": 39,
     "metadata": {},
     "output_type": "execute_result"
    }
   ],
   "source": [
    "posts_path = \"#container > div.content > div.cont_listarea > div.cont_list > div.listsm_type > h3 > a\"\n",
    "posts = asiae_bs.select(posts_path)\n",
    "posts = [i.attrs['href'] for i in posts]\n",
    "posts"
   ]
  },
  {
   "cell_type": "code",
   "execution_count": 40,
   "metadata": {},
   "outputs": [
    {
     "data": {
      "text/plain": [
       "['https://www.asiae.co.kr/article/item-disclosure/2020021115384049726',\n",
       " 'https://www.asiae.co.kr/article/item-disclosure/2020021115345896646',\n",
       " 'https://www.asiae.co.kr/article/item-disclosure/2020021115321034110',\n",
       " 'https://www.asiae.co.kr/article/item-disclosure/2020021115303661593',\n",
       " 'https://www.asiae.co.kr/article/item-disclosure/2020021115222986429',\n",
       " 'https://www.asiae.co.kr/article/item-disclosure/2020021115103233342',\n",
       " 'https://www.asiae.co.kr/article/item-disclosure/2020021115084215386',\n",
       " 'https://www.asiae.co.kr/article/item-disclosure/2020021115071802393',\n",
       " 'https://www.asiae.co.kr/article/item-disclosure/2020021115042987706',\n",
       " 'https://www.asiae.co.kr/article/item-disclosure/2020021115025272025',\n",
       " 'https://www.asiae.co.kr/article/item-disclosure/2020021115002378244',\n",
       " 'https://www.asiae.co.kr/article/item-disclosure/2020021114261571234',\n",
       " 'https://www.asiae.co.kr/article/item-disclosure/2020021113555780176',\n",
       " 'https://www.asiae.co.kr/article/item-disclosure/2020021113541874132',\n",
       " 'https://www.asiae.co.kr/article/item-disclosure/2020021113523963255',\n",
       " 'https://www.asiae.co.kr/article/item-disclosure/2020021113504146316',\n",
       " 'https://www.asiae.co.kr/article/item-disclosure/2020021113491934189',\n",
       " 'https://www.asiae.co.kr/article/item-disclosure/2020021113182945319',\n",
       " 'https://www.asiae.co.kr/article/item-disclosure/2020021110482233070',\n",
       " 'https://www.asiae.co.kr/article/item-disclosure/2020021110403409874']"
      ]
     },
     "execution_count": 40,
     "metadata": {},
     "output_type": "execute_result"
    }
   ],
   "source": [
    "all_posts = first_post + posts\n",
    "all_posts = ['https:' + i for i in all_posts]\n",
    "all_posts"
   ]
  },
  {
   "cell_type": "code",
   "execution_count": 41,
   "metadata": {},
   "outputs": [],
   "source": [
    "title_path = '#container > div.content > div.cont_sub > div.area_title > h3'\n",
    "created_at_path = '#container > div.content > div.cont_sub > div.area_title > div > p.user_data'\n",
    "company_path = '#txt_area > p > span > a'\n",
    "content_path = '#txt_area > p'"
   ]
  },
  {
   "cell_type": "code",
   "execution_count": 43,
   "metadata": {},
   "outputs": [
    {
     "name": "stdout",
     "output_type": "stream",
     "text": [
      "article #  0\n",
      "article #  1\n",
      "article #  2\n",
      "article #  3\n",
      "article #  4\n",
      "article #  5\n",
      "article #  6\n",
      "article #  7\n",
      "article #  8\n",
      "article #  9\n",
      "article #  10\n",
      "article #  11\n",
      "article #  12\n",
      "article #  13\n",
      "article #  14\n",
      "article #  15\n",
      "article #  16\n",
      "article #  17\n",
      "article #  18\n",
      "article #  19\n"
     ]
    },
    {
     "data": {
      "text/plain": [
       "{'title': '\\r\\n\\t\\t\\t\\t\\t\\t\\t푸드웰, 작년 영업이익 85억… 전년比 14.9%↑\\t\\t\\t\\t\\t\\t',\n",
       " 'created_at': '\\n최종수정 2020.02.11 15:38\\t\\t\\t\\t\\t\\t\\t\\t기사입력\\r\\n\\t\\t\\t\\t\\t\\t\\t\\t2020.02.11 15:38\\t\\t\\t\\t\\t\\t\\t',\n",
       " 'company': '푸드웰',\n",
       " 'content': '[아시아경제 구은모 기자] \\r\\n\\t\\t\\t\\t\\t\\t\\t\\t\\n푸드웰\\n\\n\\n\\n푸드웰\\n005670\\n|\\n코스닥\\n\\n\\n증권정보\\n\\n\\n\\n\\n\\n\\n현재가\\n6,300\\n\\n\\n전일대비\\n80\\n\\n\\n등락률\\n+1.29%\\n\\n\\n거래량\\n23,212\\n\\n\\n전일가\\n6,220\\n\\n\\n\\n2020.02.11 15:30 장마감\\nclose\\n\\n\\n\\r\\n은 지난해 영업이익이 85억8286만원으로 전년 대비 14.96% 증가했다고 11일 공시했다. 같은 기간 매출액은 1439억3718만원으로 16.28% 늘었고, 당기순이익도 318억3719만원으로 485.93% 증가했다.'}"
      ]
     },
     "execution_count": 43,
     "metadata": {},
     "output_type": "execute_result"
    }
   ],
   "source": [
    "all_articles = []\n",
    "\n",
    "for i, link in enumerate(all_posts):\n",
    "    print('article # ', i)\n",
    "    \n",
    "    req = urlopen(link)\n",
    "    article_bs = bs(req, 'html.parser')\n",
    "    \n",
    "    try:\n",
    "        title = article_bs.select_one(title_path).text\n",
    "        created_at = article_bs.select_one(created_at_path).text\n",
    "        company = article_bs.select_one(company_path).text\n",
    "        content = article_bs.select_one(content_path).text\n",
    "    except AttributeError:\n",
    "        pass\n",
    "    \n",
    "    temp_dic = {'title': title, 'created_at': created_at, 'company': company, 'content': content}\n",
    "    all_articles.append(temp_dic)\n",
    "\n",
    "all_articles[0]"
   ]
  },
  {
   "cell_type": "code",
   "execution_count": 46,
   "metadata": {},
   "outputs": [
    {
     "data": {
      "text/plain": [
       "[{'title': '\\r\\n\\t\\t\\t\\t\\t\\t\\t푸드웰, 작년 영업이익 85억… 전년比 14.9%↑\\t\\t\\t\\t\\t\\t',\n",
       "  'created_at': '\\n최종수정 2020.02.11 15:38\\t\\t\\t\\t\\t\\t\\t\\t기사입력\\r\\n\\t\\t\\t\\t\\t\\t\\t\\t2020.02.11 15:38\\t\\t\\t\\t\\t\\t\\t',\n",
       "  'company': '푸드웰',\n",
       "  'content': '[아시아경제 구은모 기자] \\r\\n\\t\\t\\t\\t\\t\\t\\t\\t\\n푸드웰\\n\\n\\n\\n푸드웰\\n005670\\n|\\n코스닥\\n\\n\\n증권정보\\n\\n\\n\\n\\n\\n\\n현재가\\n6,300\\n\\n\\n전일대비\\n80\\n\\n\\n등락률\\n+1.29%\\n\\n\\n거래량\\n23,212\\n\\n\\n전일가\\n6,220\\n\\n\\n\\n2020.02.11 15:30 장마감\\nclose\\n\\n\\n\\r\\n은 지난해 영업이익이 85억8286만원으로 전년 대비 14.96% 증가했다고 11일 공시했다. 같은 기간 매출액은 1439억3718만원으로 16.28% 늘었고, 당기순이익도 318억3719만원으로 485.93% 증가했다.'},\n",
       " {'title': '\\r\\n\\t\\t\\t\\t\\t\\t\\t비상교육, 주당 250원 현금배당 결정\\t\\t\\t\\t\\t\\t',\n",
       "  'created_at': '\\n최종수정 2020.02.11 15:35\\t\\t\\t\\t\\t\\t\\t\\t기사입력\\r\\n\\t\\t\\t\\t\\t\\t\\t\\t2020.02.11 15:35\\t\\t\\t\\t\\t\\t\\t',\n",
       "  'company': '비상교육',\n",
       "  'content': '[아시아경제 구은모 기자] \\r\\n\\t\\t\\t\\t\\t\\t\\t\\t\\n비상교육\\n\\n\\n\\n비상교육\\n100220\\n|\\n코스피\\n\\n\\n증권정보\\n\\n\\n\\n\\n\\n\\n현재가\\n7,240\\n\\n\\n전일대비\\n10\\n\\n\\n등락률\\n+0.14%\\n\\n\\n거래량\\n22,620\\n\\n\\n전일가\\n7,230\\n\\n\\n\\n2020.02.11 15:30 장마감\\nclose\\n\\n\\n\\r\\n은 결산배당으로 보통주 1주당 250원의 현금배당을 결정했다고 11일 공시했다. 배당금총액은 30억6287만원이며, 시가배당율은 3.19%다.'},\n",
       " {'title': '\\r\\n\\t\\t\\t\\t\\t\\t\\tGKL, 주당 529원 현금배당 결정\\t\\t\\t\\t\\t\\t',\n",
       "  'created_at': '\\n최종수정 2020.02.11 15:32\\t\\t\\t\\t\\t\\t\\t\\t기사입력\\r\\n\\t\\t\\t\\t\\t\\t\\t\\t2020.02.11 15:32\\t\\t\\t\\t\\t\\t\\t',\n",
       "  'company': 'GKL',\n",
       "  'content': '[아시아경제 구은모 기자] \\r\\n\\t\\t\\t\\t\\t\\t\\t\\t\\nGKL\\n\\n\\n\\nGKL\\n114090\\n|\\n코스피\\n\\n\\n증권정보\\n\\n\\n\\n\\n\\n\\n현재가\\n19,200\\n\\n\\n전일대비\\n500\\n\\n\\n등락률\\n+2.67%\\n\\n\\n거래량\\n266,588\\n\\n\\n전일가\\n18,700\\n\\n\\n\\n2020.02.11 15:30 장마감\\nclose\\n\\n\\n\\r\\n은 결산배당으로 보통주 1주당 529원의 현금배당을 결정했다고 11일 공시했다. 배당금총액은 327억2164만원이며, 시가배당율은 2.7%다.'},\n",
       " {'title': '\\r\\n\\t\\t\\t\\t\\t\\t\\t경동나비엔, 작년 영업이익 451억… 전년比 10.7%↑\\t\\t\\t\\t\\t\\t',\n",
       "  'created_at': '\\n최종수정 2020.02.11 15:30\\t\\t\\t\\t\\t\\t\\t\\t기사입력\\r\\n\\t\\t\\t\\t\\t\\t\\t\\t2020.02.11 15:30\\t\\t\\t\\t\\t\\t\\t',\n",
       "  'company': '경동나비엔',\n",
       "  'content': '[아시아경제 구은모 기자] \\r\\n\\t\\t\\t\\t\\t\\t\\t\\t\\n경동나비엔\\n\\n\\n\\n경동나비엔\\n009450\\n|\\n코스피\\n\\n\\n증권정보\\n\\n\\n\\n\\n\\n\\n현재가\\n43,950\\n\\n\\n전일대비\\n1,050\\n\\n\\n등락률\\n+2.45%\\n\\n\\n거래량\\n70,139\\n\\n\\n전일가\\n42,900\\n\\n\\n\\n2020.02.11 15:30 장마감\\nclose\\n\\n\\n\\r\\n은 지난해 영업이익이 451억원으로 전년 대비 10.7% 증가했다고 11일 공시했다. 같은 기간 매출액은 7742억원으로 6.5% 늘었고, 당기순이익도 280억원으로 13.4% 증가했다.'},\n",
       " {'title': '\\r\\n\\t\\t\\t\\t\\t\\t\\t경동나비엔, 주당 300원 현금배당 결정\\t\\t\\t\\t\\t\\t',\n",
       "  'created_at': '\\n최종수정 2020.02.11 15:22\\t\\t\\t\\t\\t\\t\\t\\t기사입력\\r\\n\\t\\t\\t\\t\\t\\t\\t\\t2020.02.11 15:22\\t\\t\\t\\t\\t\\t\\t',\n",
       "  'company': '경동나비엔',\n",
       "  'content': '[아시아경제 구은모 기자] \\r\\n\\t\\t\\t\\t\\t\\t\\t\\t\\n경동나비엔\\n\\n\\n\\n경동나비엔\\n009450\\n|\\n코스피\\n\\n\\n증권정보\\n\\n\\n\\n\\n\\n\\n현재가\\n43,950\\n\\n\\n전일대비\\n1,050\\n\\n\\n등락률\\n+2.45%\\n\\n\\n거래량\\n70,139\\n\\n\\n전일가\\n42,900\\n\\n\\n\\n2020.02.11 15:30 장마감\\nclose\\n\\n\\n\\r\\n은 결산배당으로 보통주 1주당 300원의 현금배당을 결정했다고 11일 공시했다. 배당금총액은 37억8715만원이며, 시가배당율은 0.64%다.'},\n",
       " {'title': '\\r\\n\\t\\t\\t\\t\\t\\t\\t실리콘웍스, 주당 830원 현금배당 결정\\t\\t\\t\\t\\t\\t',\n",
       "  'created_at': '\\n최종수정 2020.02.11 15:10\\t\\t\\t\\t\\t\\t\\t\\t기사입력\\r\\n\\t\\t\\t\\t\\t\\t\\t\\t2020.02.11 15:10\\t\\t\\t\\t\\t\\t\\t',\n",
       "  'company': '실리콘웍스',\n",
       "  'content': '[아시아경제 구은모 기자] \\r\\n\\t\\t\\t\\t\\t\\t\\t\\t\\n실리콘웍스\\n\\n\\n\\n실리콘웍스\\n108320\\n|\\n코스닥\\n\\n\\n증권정보\\n\\n\\n\\n\\n\\n\\n현재가\\n38,400\\n\\n\\n전일대비\\n250\\n\\n\\n등락률\\n+0.66%\\n\\n\\n거래량\\n70,635\\n\\n\\n전일가\\n38,150\\n\\n\\n\\n2020.02.11 15:30 장마감\\nclose\\n\\n\\n\\r\\n는 결산배당으로 보통주 1주당 830원의 현금배당을 결정했다고 11일 공시했다. 배당금총액은 134억9936만원이며, 시가배당율은 2.1%다.'},\n",
       " {'title': '\\r\\n\\t\\t\\t\\t\\t\\t\\t대원강업, 주당 115원 현금배당 결정\\t\\t\\t\\t\\t\\t',\n",
       "  'created_at': '\\n최종수정 2020.02.11 15:08\\t\\t\\t\\t\\t\\t\\t\\t기사입력\\r\\n\\t\\t\\t\\t\\t\\t\\t\\t2020.02.11 15:08\\t\\t\\t\\t\\t\\t\\t',\n",
       "  'company': '대원강업',\n",
       "  'content': '[아시아경제 구은모 기자] \\r\\n\\t\\t\\t\\t\\t\\t\\t\\t\\n대원강업\\n\\n\\n\\n대원강업\\n000430\\n|\\n코스피\\n\\n\\n증권정보\\n\\n\\n\\n\\n\\n\\n현재가\\n3,380\\n\\n\\n전일대비\\n10\\n\\n\\n등락률\\n+0.30%\\n\\n\\n거래량\\n19,043\\n\\n\\n전일가\\n3,370\\n\\n\\n\\n2020.02.11 15:30 장마감\\nclose\\n\\n\\n\\r\\n은 결산배당으로 보통주 1주당 115원의 현금배당을 결정했다고 11일 공시했다. 배당금총액은 71억3000만원이며, 시가배당율은 3.36%다.'},\n",
       " {'title': '\\r\\n\\t\\t\\t\\t\\t\\t\\t제주항공, 작년 영업손실 329억… 적자전환\\t\\t\\t\\t\\t\\t',\n",
       "  'created_at': '\\n최종수정 2020.02.11 15:07\\t\\t\\t\\t\\t\\t\\t\\t기사입력\\r\\n\\t\\t\\t\\t\\t\\t\\t\\t2020.02.11 15:07\\t\\t\\t\\t\\t\\t\\t',\n",
       "  'company': '제주항공',\n",
       "  'content': '[아시아경제 구은모 기자] \\r\\n\\t\\t\\t\\t\\t\\t\\t\\t\\n제주항공\\n\\n\\n\\n제주항공\\n089590\\n|\\n코스피\\n\\n\\n증권정보\\n\\n\\n\\n\\n\\n\\n현재가\\n23,200\\n\\n\\n전일대비\\n0\\n\\n\\n등락률\\n0.00%\\n\\n\\n거래량\\n49,574\\n\\n\\n전일가\\n23,200\\n\\n\\n\\n2020.02.11 15:30 장마감\\nclose\\n\\n\\n\\r\\n은 지난해 연결 기준 영업손실이 328억8958만원으로 전년 대비 적자전환했다고 11일 공시했다. 같은 기간 매출액은 1조3839억원으로 9.9% 증가했고, 당기순손실은 341억643만원으로 적자로 돌아섰다.'},\n",
       " {'title': '\\r\\n\\t\\t\\t\\t\\t\\t\\t유비쿼스, 주당 450원 현금배당 결정\\t\\t\\t\\t\\t\\t',\n",
       "  'created_at': '\\n최종수정 2020.02.11 15:04\\t\\t\\t\\t\\t\\t\\t\\t기사입력\\r\\n\\t\\t\\t\\t\\t\\t\\t\\t2020.02.11 15:04\\t\\t\\t\\t\\t\\t\\t',\n",
       "  'company': '제주항공',\n",
       "  'content': '[아시아경제 구은모 기자] \\r\\n\\t\\t\\t\\t\\t\\t\\t\\t\\n제주항공\\n\\n\\n\\n제주항공\\n089590\\n|\\n코스피\\n\\n\\n증권정보\\n\\n\\n\\n\\n\\n\\n현재가\\n23,200\\n\\n\\n전일대비\\n0\\n\\n\\n등락률\\n0.00%\\n\\n\\n거래량\\n49,574\\n\\n\\n전일가\\n23,200\\n\\n\\n\\n2020.02.11 15:30 장마감\\nclose\\n\\n\\n\\r\\n은 지난해 연결 기준 영업손실이 328억8958만원으로 전년 대비 적자전환했다고 11일 공시했다. 같은 기간 매출액은 1조3839억원으로 9.9% 증가했고, 당기순손실은 341억643만원으로 적자로 돌아섰다.'},\n",
       " {'title': '\\r\\n\\t\\t\\t\\t\\t\\t\\t한화솔루션, 진천공장 등 태양광 모듈 제조 중단 결정\\t\\t\\t\\t\\t\\t',\n",
       "  'created_at': '\\n최종수정 2020.02.11 15:02\\t\\t\\t\\t\\t\\t\\t\\t기사입력\\r\\n\\t\\t\\t\\t\\t\\t\\t\\t2020.02.11 15:02\\t\\t\\t\\t\\t\\t\\t',\n",
       "  'company': '한화솔루션',\n",
       "  'content': '[아시아경제 구은모 기자] \\r\\n\\t\\t\\t\\t\\t\\t\\t\\t\\n한화솔루션\\n\\n\\n\\n한화솔루션\\n009830\\n|\\n코스피\\n\\n\\n증권정보\\n\\n\\n\\n\\n\\n\\n현재가\\n18,750\\n\\n\\n전일대비\\n450\\n\\n\\n등락률\\n+2.46%\\n\\n\\n거래량\\n1,185,666\\n\\n\\n전일가\\n18,300\\n\\n\\n\\n2020.02.11 15:30 장마감\\nclose\\n\\n\\n\\r\\n은 큐셀부문 진천공장 등에서 태양광 모듈 제조를 중단하기로 결정했다고 11일 공시했다. 회사 측은 “신종 코로나 바이러스 감염증 확산 방지를 위한 중국 정부의 춘절 연휴기간 연장 등으로 인해 일시적 생산부품 수급에 차질이 발생했다”며 “향후 부품 조달 거래선 확대를 검토하고 중국 내 자재업체 생산 재개 시 조달 소요기간을 최소화하겠다”고 밝혔다.'},\n",
       " {'title': '\\r\\n\\t\\t\\t\\t\\t\\t\\t한솔케미칼, 주당 1500원 현금배당 결정\\t\\t\\t\\t\\t\\t',\n",
       "  'created_at': '\\n최종수정 2020.02.11 15:00\\t\\t\\t\\t\\t\\t\\t\\t기사입력\\r\\n\\t\\t\\t\\t\\t\\t\\t\\t2020.02.11 15:00\\t\\t\\t\\t\\t\\t\\t',\n",
       "  'company': '한솔케미칼',\n",
       "  'content': '[아시아경제 구은모 기자] \\r\\n\\t\\t\\t\\t\\t\\t\\t\\t\\n한솔케미칼\\n\\n\\n\\n한솔케미칼\\n014680\\n|\\n코스피\\n\\n\\n증권정보\\n\\n\\n\\n\\n\\n\\n현재가\\n113,000\\n\\n\\n전일대비\\n3,000\\n\\n\\n등락률\\n+2.73%\\n\\n\\n거래량\\n66,116\\n\\n\\n전일가\\n110,000\\n\\n\\n\\n2020.02.11 15:30 장마감\\nclose\\n\\n\\n\\r\\n은 결산배당으로 보통주 1주당 1500원의 현금배당을 결정했다고 11일 공시했다. 배당금총액은 166억3247만원이며, 시가배당율은 1.4%다.'},\n",
       " {'title': '\\r\\n\\t\\t\\t\\t\\t\\t\\t신도리코, 주당 1000원 현금배당 결정\\t\\t\\t\\t\\t\\t',\n",
       "  'created_at': '\\n최종수정 2020.02.11 14:26\\t\\t\\t\\t\\t\\t\\t\\t기사입력\\r\\n\\t\\t\\t\\t\\t\\t\\t\\t2020.02.11 14:26\\t\\t\\t\\t\\t\\t\\t',\n",
       "  'company': '신도리코',\n",
       "  'content': '[아시아경제 구은모 기자] \\r\\n\\t\\t\\t\\t\\t\\t\\t\\t\\n신도리코\\n\\n\\n\\n신도리코\\n029530\\n|\\n코스피\\n\\n\\n증권정보\\n\\n\\n\\n\\n\\n\\n현재가\\n33,200\\n\\n\\n전일대비\\n550\\n\\n\\n등락률\\n+1.68%\\n\\n\\n거래량\\n6,317\\n\\n\\n전일가\\n32,650\\n\\n\\n\\n2020.02.11 15:30 장마감\\nclose\\n\\n\\n\\r\\n는 결산배당으로 보통주 1주당 1000원의 현금배당을 결정했다고 11일 공시했다. 배당금총액은 98억3220만원이며, 시가배당율은 2.64%다.'},\n",
       " {'title': '\\r\\n\\t\\t\\t\\t\\t\\t\\t현대사료, 주당 100원 현금배당 결정\\t\\t\\t\\t\\t\\t',\n",
       "  'created_at': '\\n최종수정 2020.02.11 13:55\\t\\t\\t\\t\\t\\t\\t\\t기사입력\\r\\n\\t\\t\\t\\t\\t\\t\\t\\t2020.02.11 13:55\\t\\t\\t\\t\\t\\t\\t',\n",
       "  'company': '현대사료',\n",
       "  'content': '[아시아경제 구은모 기자] \\r\\n\\t\\t\\t\\t\\t\\t\\t\\t\\n현대사료\\n\\n\\n\\n현대사료\\n016790\\n|\\n코스닥\\n\\n\\n증권정보\\n\\n\\n\\n\\n\\n\\n현재가\\n13,200\\n\\n\\n전일대비\\n100\\n\\n\\n등락률\\n-0.75%\\n\\n\\n거래량\\n95,910\\n\\n\\n전일가\\n13,300\\n\\n\\n\\n2020.02.11 15:30 장마감\\nclose\\n\\n\\n\\r\\n는 결산배당으로 보통주 1주당 100원의 현금배당을 결정했다고 11일 공시했다. 배당금총액은 6억1504만원이며, 시가배당율은 0.8%다.'},\n",
       " {'title': '\\r\\n\\t\\t\\t\\t\\t\\t\\t티씨케이, 주당 900원 현금배당 결정\\t\\t\\t\\t\\t\\t',\n",
       "  'created_at': '\\n최종수정 2020.02.11 13:54\\t\\t\\t\\t\\t\\t\\t\\t기사입력\\r\\n\\t\\t\\t\\t\\t\\t\\t\\t2020.02.11 13:54\\t\\t\\t\\t\\t\\t\\t',\n",
       "  'company': '티씨케이',\n",
       "  'content': '[아시아경제 구은모 기자] \\r\\n\\t\\t\\t\\t\\t\\t\\t\\t\\n티씨케이\\n\\n\\n\\n티씨케이\\n064760\\n|\\n코스닥\\n\\n\\n증권정보\\n\\n\\n\\n\\n\\n\\n현재가\\n67,300\\n\\n\\n전일대비\\n1,300\\n\\n\\n등락률\\n-1.90%\\n\\n\\n거래량\\n51,686\\n\\n\\n전일가\\n68,600\\n\\n\\n\\n2020.02.11 15:30 장마감\\nclose\\n\\n\\n\\r\\n는 결산배당으로 보통주 1주당 900원의 현금배당을 결정했다고 11일 공시했다. 배당금총액은 105억750만원이며, 시가배당율은 1.4%다.'},\n",
       " {'title': '\\r\\n\\t\\t\\t\\t\\t\\t\\t OCI, 작년 영업손실 1807억… 적자전환\\t\\t\\t\\t\\t\\t',\n",
       "  'created_at': '\\n최종수정 2020.02.11 13:52\\t\\t\\t\\t\\t\\t\\t\\t기사입력\\r\\n\\t\\t\\t\\t\\t\\t\\t\\t2020.02.11 13:52\\t\\t\\t\\t\\t\\t\\t',\n",
       "  'company': 'OCI',\n",
       "  'content': '[아시아경제 구은모 기자] \\r\\n\\t\\t\\t\\t\\t\\t\\t\\t\\nOCI\\n\\n\\n\\nOCI\\n010060\\n|\\n코스피\\n\\n\\n증권정보\\n\\n\\n\\n\\n\\n\\n현재가\\n65,900\\n\\n\\n전일대비\\n7,000\\n\\n\\n등락률\\n+11.88%\\n\\n\\n거래량\\n1,333,293\\n\\n\\n전일가\\n58,900\\n\\n\\n\\n2020.02.11 15:30 장마감\\nclose\\n\\n\\n\\r\\n는 지난해 연결 기준 영업손실이 1807억원으로 전년 대비 적자전환한 것으로 잠정 집계됐다고 11일 공시했다. 같은 기간 매출액은 2조651억원으로 전년 대비 16.3% 감소했다. 순손실은 8093억원으로 적자로 돌아섰다.'},\n",
       " {'title': '\\r\\n\\t\\t\\t\\t\\t\\t\\t한온시스템, 주당 80원 현금배당 결정\\t\\t\\t\\t\\t\\t',\n",
       "  'created_at': '\\n최종수정 2020.02.11 13:50\\t\\t\\t\\t\\t\\t\\t\\t기사입력\\r\\n\\t\\t\\t\\t\\t\\t\\t\\t2020.02.11 13:50\\t\\t\\t\\t\\t\\t\\t',\n",
       "  'company': '한온시스템',\n",
       "  'content': '[아시아경제 구은모 기자] \\r\\n\\t\\t\\t\\t\\t\\t\\t\\t\\n한온시스템\\n\\n\\n\\n한온시스템\\n018880\\n|\\n코스피\\n\\n\\n증권정보\\n\\n\\n\\n\\n\\n\\n현재가\\n11,250\\n\\n\\n전일대비\\n500\\n\\n\\n등락률\\n+4.65%\\n\\n\\n거래량\\n1,720,651\\n\\n\\n전일가\\n10,750\\n\\n\\n\\n2020.02.11 15:30 장마감\\nclose\\n\\n\\n\\r\\n은 결산배당으로 보통주 1주당 80원의 현금배당을 결정했다고 11일 공시했다. 배당금총액은 427억400만원이며, 시가배당율은 0.7%다.'},\n",
       " {'title': '\\r\\n\\t\\t\\t\\t\\t\\t\\t한온시스템, 작년 영업이익 4838억… 전년比 11.5%↑\\t\\t\\t\\t\\t\\t',\n",
       "  'created_at': '\\n최종수정 2020.02.11 13:49\\t\\t\\t\\t\\t\\t\\t\\t기사입력\\r\\n\\t\\t\\t\\t\\t\\t\\t\\t2020.02.11 13:49\\t\\t\\t\\t\\t\\t\\t',\n",
       "  'company': '한온시스템',\n",
       "  'content': '[아시아경제 구은모 기자] \\r\\n\\t\\t\\t\\t\\t\\t\\t\\t\\n한온시스템\\n\\n\\n\\n한온시스템\\n018880\\n|\\n코스피\\n\\n\\n증권정보\\n\\n\\n\\n\\n\\n\\n현재가\\n11,250\\n\\n\\n전일대비\\n500\\n\\n\\n등락률\\n+4.65%\\n\\n\\n거래량\\n1,720,651\\n\\n\\n전일가\\n10,750\\n\\n\\n\\n2020.02.11 15:30 장마감\\nclose\\n\\n\\n\\r\\n은 지난해 영업이익이 4838억원으로 전년 대비 11.5% 증가했다고 11일 공시했다. 같은 기간 매출액은 7조1541억원으로 20.5% 늘었고, 당기순이익도 3226억원으로 13.7% 증가했다.'},\n",
       " {'title': '\\r\\n\\t\\t\\t\\t\\t\\t\\t[공시+]레이, 작년 영업익 129억원 전년比 113% ↑…\"4년 연속 사상 최대 실적\"\\t\\t\\t\\t\\t\\t',\n",
       "  'created_at': '\\n최종수정 2020.02.11 13:18\\t\\t\\t\\t\\t\\t\\t\\t기사입력\\r\\n\\t\\t\\t\\t\\t\\t\\t\\t2020.02.11 13:18\\t\\t\\t\\t\\t\\t\\t',\n",
       "  'company': '레이',\n",
       "  'content': '[아시아경제 유현석 기자] \\r\\n\\t\\t\\t\\t\\t\\t\\t\\t\\n레이\\n\\n\\n\\n레이\\n228670\\n|\\n코스닥\\n\\n\\n증권정보\\n\\n\\n\\n\\n\\n\\n현재가\\n46,600\\n\\n\\n전일대비\\n0\\n\\n\\n등락률\\n0.00%\\n\\n\\n거래량\\n0\\n\\n\\n전일가\\n46,600\\n\\n\\n\\n2020.02.11 15:30 장마감\\nclose\\n\\n\\n\\r\\n는 지난해 연결 재무제표 기준 매출액 731억원, 영업이익 129억원, 당기순이익 112억원을 기록했다고 11일 공시했다. 전년 대비 매출액은 42%, 영업익 113%, 당기순이익이 115% 증가했다.'},\n",
       " {'title': '\\r\\n\\t\\t\\t\\t\\t\\t\\t대원전선, 작년 영업이익 10억… 전년比 76.9%↓\\t\\t\\t\\t\\t\\t',\n",
       "  'created_at': '\\n최종수정 2020.02.11 10:48\\t\\t\\t\\t\\t\\t\\t\\t기사입력\\r\\n\\t\\t\\t\\t\\t\\t\\t\\t2020.02.11 10:48\\t\\t\\t\\t\\t\\t\\t',\n",
       "  'company': '대원전선',\n",
       "  'content': '[아시아경제 구은모 기자] \\r\\n\\t\\t\\t\\t\\t\\t\\t\\t\\n대원전선\\n\\n\\n\\n대원전선\\n006340\\n|\\n코스피\\n\\n\\n증권정보\\n\\n\\n\\n\\n\\n\\n현재가\\n1,115\\n\\n\\n전일대비\\n20\\n\\n\\n등락률\\n-1.76%\\n\\n\\n거래량\\n1,459,848\\n\\n\\n전일가\\n1,135\\n\\n\\n\\n2020.02.11 15:30 장마감\\nclose\\n\\n\\n\\r\\n은 지난해 연결 기준 영업이익이 10억원으로 전년 대비 76.9% 감소했다고 11일 공시했다. 같은 기간 매출액은 4013억원으로 전년 대비 6.6% 줄었으며, 당기순손실은 8억원으로 적자전환했다.'},\n",
       " {'title': '\\r\\n\\t\\t\\t\\t\\t\\t\\t디오, 독일 ‘IF 디자인 어워드 2020’ 제품 부문 수상\\t\\t\\t\\t\\t\\t',\n",
       "  'created_at': '\\n최종수정 2020.02.11 10:40\\t\\t\\t\\t\\t\\t\\t\\t기사입력\\r\\n\\t\\t\\t\\t\\t\\t\\t\\t2020.02.11 10:40\\t\\t\\t\\t\\t\\t\\t',\n",
       "  'company': '디오',\n",
       "  'content': '[아시아경제 장효원 기자] 디지털 덴티스트리 기업 \\r\\n\\t\\t\\t\\t\\t\\t\\t\\t\\n디오\\n\\n\\n\\n디오\\n039840\\n|\\n코스닥\\n\\n\\n증권정보\\n\\n\\n\\n\\n\\n\\n현재가\\n39,800\\n\\n\\n전일대비\\n200\\n\\n\\n등락률\\n+0.51%\\n\\n\\n거래량\\n91,862\\n\\n\\n전일가\\n39,600\\n\\n\\n\\n2020.02.11 15:30 장마감\\nclose\\n\\n\\n\\r\\n(대표이사 김진백)가 독일 국제 디자인 공모전 ‘IF 디자인 어워드’의 제품 부문 수상기업으로 선정됐다.'}]"
      ]
     },
     "execution_count": 46,
     "metadata": {},
     "output_type": "execute_result"
    }
   ],
   "source": [
    "all_articles"
   ]
  }
 ],
 "metadata": {
  "kernelspec": {
   "display_name": "Python 3",
   "language": "python",
   "name": "python3"
  },
  "language_info": {
   "codemirror_mode": {
    "name": "ipython",
    "version": 3
   },
   "file_extension": ".py",
   "mimetype": "text/x-python",
   "name": "python",
   "nbconvert_exporter": "python",
   "pygments_lexer": "ipython3",
   "version": "3.7.5"
  }
 },
 "nbformat": 4,
 "nbformat_minor": 4
}
